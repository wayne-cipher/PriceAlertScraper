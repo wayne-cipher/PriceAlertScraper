{
 "cells": [
  {
   "cell_type": "code",
   "execution_count": 5,
   "id": "222f444b-2a3d-4bd7-8b39-7ee471af0b43",
   "metadata": {},
   "outputs": [
    {
     "name": "stdout",
     "output_type": "stream",
     "text": [
      "mail sent!!\n"
     ]
    }
   ],
   "source": [
    "import requests\n",
    "from bs4 import BeautifulSoup\n",
    "import time\n",
    "import datetime\n",
    "import smtplib\n",
    "\n",
    "\n",
    "# Scrapes the price of a laptop stand from Jumia Kenya website and returns the current discounted price as a float\n",
    "def check_price():\n",
    "    url = 'https://www.jumia.co.ke/qwen-aluminum-alloy-laptop-stand-computer-stand-61956975.html'\n",
    "    \n",
    "    # Set user agent to mimic a browser request and avoid being blocked\n",
    "    headers = {'User-Agent': \"Mozilla/5.0 (Windows NT 10.0; Win64; x64) AppleWebKit/537.36 (KHTML, like Gecko) Chrome/134.0.0.0 Safari/537.36\"}\n",
    "    page = requests.get(url, headers=headers)\n",
    "    soup = BeautifulSoup(page.content, \"html.parser\")\n",
    "\n",
    "    # Extract product details using CSS selectors\n",
    "    title = soup.find('h1', class_='-fs20 -pts -pbxs').get_text()\n",
    "    discounted_price = soup.find('span', class_='-b -ubpt -tal -fs24 -prxs').get_text()\n",
    "    initial_price = soup.find('span', class_='-tal -gy5 -lthr -fs16 -pvxs -ubpt').get_text()\n",
    "    discount = soup.find('span', class_='bdg _dsct _dyn -mls').get_text()\n",
    "    \n",
    "    final_price = float (discounted_price[3:])\n",
    "    return final_price\n",
    "\n",
    "\n",
    "# Sends an email notification when the price drops below the target threshold. Uses Gmail's SMTP server to send the email.\n",
    "def send_email():\n",
    "    server = smtplib.SMTP_SSL('smtp.gmail.com', 465) # Connect to Gmail's SMTP server using SSL\n",
    "    server.ehlo()\n",
    "    server.login('morrismmusyoki254@gmail.com','yourpassword')\n",
    "    \n",
    "    subject = \"Price Dropped for The Laptop Stand\"\n",
    "    body = \"Grim Ripper, Time to get what's yours, price just dropped for the stand. Right here:https://www.jumia.co.ke/qwen-aluminum-alloy-laptop-stand-computer-stand-61956975.html\"\n",
    "   \n",
    "    # Format the email with subject and body\n",
    "    msg = f\"Subject: {subject}\\n\\n{body}\"\n",
    "    \n",
    "    server.sendmail(\n",
    "        'GrimRipper@gmail.com',\n",
    "        \"morrismmusyoki254@gmail.com\",\n",
    "        msg\n",
    "      )\n",
    "\n",
    "    print(\"mail sent!!\")\n",
    "    server.quit()\n",
    "\n",
    "\n",
    "# Call check_price() and store the result\n",
    "final_price = check_price()\n",
    "\n",
    "if (final_price <= 500):\n",
    "    send_email()\n",
    "\n",
    "# Continuous monitoring loop\n",
    "while(True):\n",
    "        check_price()\n",
    "        time.sleep(86400)"
   ]
  },
  {
   "cell_type": "code",
   "execution_count": null,
   "id": "d4eb6e02-6a30-4b5e-b7d8-16144f126d31",
   "metadata": {},
   "outputs": [],
   "source": []
  }
 ],
 "metadata": {
  "kernelspec": {
   "display_name": "Python [conda env:base] *",
   "language": "python",
   "name": "conda-base-py"
  },
  "language_info": {
   "codemirror_mode": {
    "name": "ipython",
    "version": 3
   },
   "file_extension": ".py",
   "mimetype": "text/x-python",
   "name": "python",
   "nbconvert_exporter": "python",
   "pygments_lexer": "ipython3",
   "version": "3.12.4"
  }
 },
 "nbformat": 4,
 "nbformat_minor": 5
}
